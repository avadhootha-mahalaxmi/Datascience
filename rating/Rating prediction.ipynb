{
 "cells": [
  {
   "cell_type": "code",
   "execution_count": 1,
   "id": "fc2f74b5",
   "metadata": {},
   "outputs": [],
   "source": [
    "#importing libraries\n",
    "import numpy as np\n",
    "import pandas as pd\n",
    "import matplotlib.pyplot as plt\n",
    "import seaborn as sns\n",
    "%matplotlib inline\n"
   ]
  },
  {
   "cell_type": "code",
   "execution_count": 2,
   "id": "b24aff52",
   "metadata": {},
   "outputs": [
    {
     "data": {
      "text/html": [
       "<div>\n",
       "<style scoped>\n",
       "    .dataframe tbody tr th:only-of-type {\n",
       "        vertical-align: middle;\n",
       "    }\n",
       "\n",
       "    .dataframe tbody tr th {\n",
       "        vertical-align: top;\n",
       "    }\n",
       "\n",
       "    .dataframe thead th {\n",
       "        text-align: right;\n",
       "    }\n",
       "</style>\n",
       "<table border=\"1\" class=\"dataframe\">\n",
       "  <thead>\n",
       "    <tr style=\"text-align: right;\">\n",
       "      <th></th>\n",
       "      <th>url</th>\n",
       "      <th>address</th>\n",
       "      <th>name</th>\n",
       "      <th>online_order</th>\n",
       "      <th>book_table</th>\n",
       "      <th>rate</th>\n",
       "      <th>votes</th>\n",
       "      <th>phone</th>\n",
       "      <th>location</th>\n",
       "      <th>rest_type</th>\n",
       "      <th>dish_liked</th>\n",
       "      <th>cuisines</th>\n",
       "      <th>approx_cost(for two people)</th>\n",
       "      <th>reviews_list</th>\n",
       "      <th>menu_item</th>\n",
       "      <th>listed_in(type)</th>\n",
       "      <th>listed_in(city)</th>\n",
       "    </tr>\n",
       "  </thead>\n",
       "  <tbody>\n",
       "    <tr>\n",
       "      <th>0</th>\n",
       "      <td>https://www.zomato.com/bangalore/jalsa-banasha...</td>\n",
       "      <td>942, 21st Main Road, 2nd Stage, Banashankari, ...</td>\n",
       "      <td>Jalsa</td>\n",
       "      <td>Yes</td>\n",
       "      <td>Yes</td>\n",
       "      <td>4.1/5</td>\n",
       "      <td>775</td>\n",
       "      <td>080 42297555\\r\\n+91 9743772233</td>\n",
       "      <td>Banashankari</td>\n",
       "      <td>Casual Dining</td>\n",
       "      <td>Pasta, Lunch Buffet, Masala Papad, Paneer Laja...</td>\n",
       "      <td>North Indian, Mughlai, Chinese</td>\n",
       "      <td>800</td>\n",
       "      <td>[('Rated 4.0', 'RATED\\n  A beautiful place to ...</td>\n",
       "      <td>[]</td>\n",
       "      <td>Buffet</td>\n",
       "      <td>Banashankari</td>\n",
       "    </tr>\n",
       "    <tr>\n",
       "      <th>1</th>\n",
       "      <td>https://www.zomato.com/bangalore/spice-elephan...</td>\n",
       "      <td>2nd Floor, 80 Feet Road, Near Big Bazaar, 6th ...</td>\n",
       "      <td>Spice Elephant</td>\n",
       "      <td>Yes</td>\n",
       "      <td>No</td>\n",
       "      <td>4.1/5</td>\n",
       "      <td>787</td>\n",
       "      <td>080 41714161</td>\n",
       "      <td>Banashankari</td>\n",
       "      <td>Casual Dining</td>\n",
       "      <td>Momos, Lunch Buffet, Chocolate Nirvana, Thai G...</td>\n",
       "      <td>Chinese, North Indian, Thai</td>\n",
       "      <td>800</td>\n",
       "      <td>[('Rated 4.0', 'RATED\\n  Had been here for din...</td>\n",
       "      <td>[]</td>\n",
       "      <td>Buffet</td>\n",
       "      <td>Banashankari</td>\n",
       "    </tr>\n",
       "    <tr>\n",
       "      <th>2</th>\n",
       "      <td>https://www.zomato.com/SanchurroBangalore?cont...</td>\n",
       "      <td>1112, Next to KIMS Medical College, 17th Cross...</td>\n",
       "      <td>San Churro Cafe</td>\n",
       "      <td>Yes</td>\n",
       "      <td>No</td>\n",
       "      <td>3.8/5</td>\n",
       "      <td>918</td>\n",
       "      <td>+91 9663487993</td>\n",
       "      <td>Banashankari</td>\n",
       "      <td>Cafe, Casual Dining</td>\n",
       "      <td>Churros, Cannelloni, Minestrone Soup, Hot Choc...</td>\n",
       "      <td>Cafe, Mexican, Italian</td>\n",
       "      <td>800</td>\n",
       "      <td>[('Rated 3.0', \"RATED\\n  Ambience is not that ...</td>\n",
       "      <td>[]</td>\n",
       "      <td>Buffet</td>\n",
       "      <td>Banashankari</td>\n",
       "    </tr>\n",
       "    <tr>\n",
       "      <th>3</th>\n",
       "      <td>https://www.zomato.com/bangalore/addhuri-udupi...</td>\n",
       "      <td>1st Floor, Annakuteera, 3rd Stage, Banashankar...</td>\n",
       "      <td>Addhuri Udupi Bhojana</td>\n",
       "      <td>No</td>\n",
       "      <td>No</td>\n",
       "      <td>3.7/5</td>\n",
       "      <td>88</td>\n",
       "      <td>+91 9620009302</td>\n",
       "      <td>Banashankari</td>\n",
       "      <td>Quick Bites</td>\n",
       "      <td>Masala Dosa</td>\n",
       "      <td>South Indian, North Indian</td>\n",
       "      <td>300</td>\n",
       "      <td>[('Rated 4.0', \"RATED\\n  Great food and proper...</td>\n",
       "      <td>[]</td>\n",
       "      <td>Buffet</td>\n",
       "      <td>Banashankari</td>\n",
       "    </tr>\n",
       "    <tr>\n",
       "      <th>4</th>\n",
       "      <td>https://www.zomato.com/bangalore/grand-village...</td>\n",
       "      <td>10, 3rd Floor, Lakshmi Associates, Gandhi Baza...</td>\n",
       "      <td>Grand Village</td>\n",
       "      <td>No</td>\n",
       "      <td>No</td>\n",
       "      <td>3.8/5</td>\n",
       "      <td>166</td>\n",
       "      <td>+91 8026612447\\r\\n+91 9901210005</td>\n",
       "      <td>Basavanagudi</td>\n",
       "      <td>Casual Dining</td>\n",
       "      <td>Panipuri, Gol Gappe</td>\n",
       "      <td>North Indian, Rajasthani</td>\n",
       "      <td>600</td>\n",
       "      <td>[('Rated 4.0', 'RATED\\n  Very good restaurant ...</td>\n",
       "      <td>[]</td>\n",
       "      <td>Buffet</td>\n",
       "      <td>Banashankari</td>\n",
       "    </tr>\n",
       "  </tbody>\n",
       "</table>\n",
       "</div>"
      ],
      "text/plain": [
       "                                                 url  \\\n",
       "0  https://www.zomato.com/bangalore/jalsa-banasha...   \n",
       "1  https://www.zomato.com/bangalore/spice-elephan...   \n",
       "2  https://www.zomato.com/SanchurroBangalore?cont...   \n",
       "3  https://www.zomato.com/bangalore/addhuri-udupi...   \n",
       "4  https://www.zomato.com/bangalore/grand-village...   \n",
       "\n",
       "                                             address                   name  \\\n",
       "0  942, 21st Main Road, 2nd Stage, Banashankari, ...                  Jalsa   \n",
       "1  2nd Floor, 80 Feet Road, Near Big Bazaar, 6th ...         Spice Elephant   \n",
       "2  1112, Next to KIMS Medical College, 17th Cross...        San Churro Cafe   \n",
       "3  1st Floor, Annakuteera, 3rd Stage, Banashankar...  Addhuri Udupi Bhojana   \n",
       "4  10, 3rd Floor, Lakshmi Associates, Gandhi Baza...          Grand Village   \n",
       "\n",
       "  online_order book_table   rate  votes                             phone  \\\n",
       "0          Yes        Yes  4.1/5    775    080 42297555\\r\\n+91 9743772233   \n",
       "1          Yes         No  4.1/5    787                      080 41714161   \n",
       "2          Yes         No  3.8/5    918                    +91 9663487993   \n",
       "3           No         No  3.7/5     88                    +91 9620009302   \n",
       "4           No         No  3.8/5    166  +91 8026612447\\r\\n+91 9901210005   \n",
       "\n",
       "       location            rest_type  \\\n",
       "0  Banashankari        Casual Dining   \n",
       "1  Banashankari        Casual Dining   \n",
       "2  Banashankari  Cafe, Casual Dining   \n",
       "3  Banashankari          Quick Bites   \n",
       "4  Basavanagudi        Casual Dining   \n",
       "\n",
       "                                          dish_liked  \\\n",
       "0  Pasta, Lunch Buffet, Masala Papad, Paneer Laja...   \n",
       "1  Momos, Lunch Buffet, Chocolate Nirvana, Thai G...   \n",
       "2  Churros, Cannelloni, Minestrone Soup, Hot Choc...   \n",
       "3                                        Masala Dosa   \n",
       "4                                Panipuri, Gol Gappe   \n",
       "\n",
       "                         cuisines approx_cost(for two people)  \\\n",
       "0  North Indian, Mughlai, Chinese                         800   \n",
       "1     Chinese, North Indian, Thai                         800   \n",
       "2          Cafe, Mexican, Italian                         800   \n",
       "3      South Indian, North Indian                         300   \n",
       "4        North Indian, Rajasthani                         600   \n",
       "\n",
       "                                        reviews_list menu_item  \\\n",
       "0  [('Rated 4.0', 'RATED\\n  A beautiful place to ...        []   \n",
       "1  [('Rated 4.0', 'RATED\\n  Had been here for din...        []   \n",
       "2  [('Rated 3.0', \"RATED\\n  Ambience is not that ...        []   \n",
       "3  [('Rated 4.0', \"RATED\\n  Great food and proper...        []   \n",
       "4  [('Rated 4.0', 'RATED\\n  Very good restaurant ...        []   \n",
       "\n",
       "  listed_in(type) listed_in(city)  \n",
       "0          Buffet    Banashankari  \n",
       "1          Buffet    Banashankari  \n",
       "2          Buffet    Banashankari  \n",
       "3          Buffet    Banashankari  \n",
       "4          Buffet    Banashankari  "
      ]
     },
     "execution_count": 2,
     "metadata": {},
     "output_type": "execute_result"
    }
   ],
   "source": [
    "orders_df=pd.read_csv(\"zomato.csv\")\n",
    "orders_df.head()"
   ]
  },
  {
   "cell_type": "code",
   "execution_count": 3,
   "id": "db5c9309",
   "metadata": {},
   "outputs": [],
   "source": [
    "import warnings\n",
    "warnings.filterwarnings('ignore')"
   ]
  },
  {
   "cell_type": "code",
   "execution_count": 4,
   "id": "f1ddf733",
   "metadata": {},
   "outputs": [
    {
     "data": {
      "text/plain": [
       "(51717, 17)"
      ]
     },
     "execution_count": 4,
     "metadata": {},
     "output_type": "execute_result"
    }
   ],
   "source": [
    "orders_df.shape"
   ]
  },
  {
   "cell_type": "code",
   "execution_count": 5,
   "id": "43f282d9",
   "metadata": {},
   "outputs": [
    {
     "data": {
      "text/plain": [
       "['url',\n",
       " 'address',\n",
       " 'name',\n",
       " 'online_order',\n",
       " 'book_table',\n",
       " 'rate',\n",
       " 'votes',\n",
       " 'phone',\n",
       " 'location',\n",
       " 'rest_type',\n",
       " 'dish_liked',\n",
       " 'cuisines',\n",
       " 'approx_cost(for two people)',\n",
       " 'reviews_list',\n",
       " 'menu_item',\n",
       " 'listed_in(type)',\n",
       " 'listed_in(city)']"
      ]
     },
     "execution_count": 5,
     "metadata": {},
     "output_type": "execute_result"
    }
   ],
   "source": [
    "orders_df.columns.to_list()"
   ]
  },
  {
   "cell_type": "code",
   "execution_count": 6,
   "id": "b4a81492",
   "metadata": {},
   "outputs": [],
   "source": [
    "#Renaming columns\n",
    "orders_df.rename(columns={'approx_cost(for two people)' : 'approx_cost','listed_in(city)' : 'area'}, inplace = True)"
   ]
  },
  {
   "cell_type": "code",
   "execution_count": 7,
   "id": "ac9a56ca",
   "metadata": {},
   "outputs": [
    {
     "data": {
      "text/html": [
       "<div>\n",
       "<style scoped>\n",
       "    .dataframe tbody tr th:only-of-type {\n",
       "        vertical-align: middle;\n",
       "    }\n",
       "\n",
       "    .dataframe tbody tr th {\n",
       "        vertical-align: top;\n",
       "    }\n",
       "\n",
       "    .dataframe thead th {\n",
       "        text-align: right;\n",
       "    }\n",
       "</style>\n",
       "<table border=\"1\" class=\"dataframe\">\n",
       "  <thead>\n",
       "    <tr style=\"text-align: right;\">\n",
       "      <th></th>\n",
       "      <th>name</th>\n",
       "      <th>online_order</th>\n",
       "      <th>book_table</th>\n",
       "      <th>rate</th>\n",
       "      <th>votes</th>\n",
       "      <th>location</th>\n",
       "      <th>rest_type</th>\n",
       "      <th>cuisines</th>\n",
       "      <th>approx_cost</th>\n",
       "      <th>area</th>\n",
       "    </tr>\n",
       "  </thead>\n",
       "  <tbody>\n",
       "    <tr>\n",
       "      <th>0</th>\n",
       "      <td>Jalsa</td>\n",
       "      <td>Yes</td>\n",
       "      <td>Yes</td>\n",
       "      <td>4.1/5</td>\n",
       "      <td>775</td>\n",
       "      <td>Banashankari</td>\n",
       "      <td>Casual Dining</td>\n",
       "      <td>North Indian, Mughlai, Chinese</td>\n",
       "      <td>800</td>\n",
       "      <td>Banashankari</td>\n",
       "    </tr>\n",
       "    <tr>\n",
       "      <th>1</th>\n",
       "      <td>Spice Elephant</td>\n",
       "      <td>Yes</td>\n",
       "      <td>No</td>\n",
       "      <td>4.1/5</td>\n",
       "      <td>787</td>\n",
       "      <td>Banashankari</td>\n",
       "      <td>Casual Dining</td>\n",
       "      <td>Chinese, North Indian, Thai</td>\n",
       "      <td>800</td>\n",
       "      <td>Banashankari</td>\n",
       "    </tr>\n",
       "    <tr>\n",
       "      <th>2</th>\n",
       "      <td>San Churro Cafe</td>\n",
       "      <td>Yes</td>\n",
       "      <td>No</td>\n",
       "      <td>3.8/5</td>\n",
       "      <td>918</td>\n",
       "      <td>Banashankari</td>\n",
       "      <td>Cafe, Casual Dining</td>\n",
       "      <td>Cafe, Mexican, Italian</td>\n",
       "      <td>800</td>\n",
       "      <td>Banashankari</td>\n",
       "    </tr>\n",
       "    <tr>\n",
       "      <th>3</th>\n",
       "      <td>Addhuri Udupi Bhojana</td>\n",
       "      <td>No</td>\n",
       "      <td>No</td>\n",
       "      <td>3.7/5</td>\n",
       "      <td>88</td>\n",
       "      <td>Banashankari</td>\n",
       "      <td>Quick Bites</td>\n",
       "      <td>South Indian, North Indian</td>\n",
       "      <td>300</td>\n",
       "      <td>Banashankari</td>\n",
       "    </tr>\n",
       "    <tr>\n",
       "      <th>4</th>\n",
       "      <td>Grand Village</td>\n",
       "      <td>No</td>\n",
       "      <td>No</td>\n",
       "      <td>3.8/5</td>\n",
       "      <td>166</td>\n",
       "      <td>Basavanagudi</td>\n",
       "      <td>Casual Dining</td>\n",
       "      <td>North Indian, Rajasthani</td>\n",
       "      <td>600</td>\n",
       "      <td>Banashankari</td>\n",
       "    </tr>\n",
       "  </tbody>\n",
       "</table>\n",
       "</div>"
      ],
      "text/plain": [
       "                    name online_order book_table   rate  votes      location  \\\n",
       "0                  Jalsa          Yes        Yes  4.1/5    775  Banashankari   \n",
       "1         Spice Elephant          Yes         No  4.1/5    787  Banashankari   \n",
       "2        San Churro Cafe          Yes         No  3.8/5    918  Banashankari   \n",
       "3  Addhuri Udupi Bhojana           No         No  3.7/5     88  Banashankari   \n",
       "4          Grand Village           No         No  3.8/5    166  Basavanagudi   \n",
       "\n",
       "             rest_type                        cuisines approx_cost  \\\n",
       "0        Casual Dining  North Indian, Mughlai, Chinese         800   \n",
       "1        Casual Dining     Chinese, North Indian, Thai         800   \n",
       "2  Cafe, Casual Dining          Cafe, Mexican, Italian         800   \n",
       "3          Quick Bites      South Indian, North Indian         300   \n",
       "4        Casual Dining        North Indian, Rajasthani         600   \n",
       "\n",
       "           area  \n",
       "0  Banashankari  \n",
       "1  Banashankari  \n",
       "2  Banashankari  \n",
       "3  Banashankari  \n",
       "4  Banashankari  "
      ]
     },
     "execution_count": 7,
     "metadata": {},
     "output_type": "execute_result"
    }
   ],
   "source": [
    "#DATA CLEANING\n",
    "#Dropping irrelevant columns\n",
    "#here url,address,menu_item,reviews_list,dish_liked,phone,listed_in(type) are irrelavent for problem solution\n",
    "orders_df.drop(['url','address','menu_item','reviews_list','dish_liked','phone','listed_in(type)'], axis=1 , inplace=True )\n",
    "orders_df.head()"
   ]
  },
  {
   "cell_type": "code",
   "execution_count": 8,
   "id": "710af58c",
   "metadata": {},
   "outputs": [
    {
     "name": "stdout",
     "output_type": "stream",
     "text": [
      "<class 'pandas.core.frame.DataFrame'>\n",
      "RangeIndex: 51717 entries, 0 to 51716\n",
      "Data columns (total 10 columns):\n",
      " #   Column        Non-Null Count  Dtype \n",
      "---  ------        --------------  ----- \n",
      " 0   name          51717 non-null  object\n",
      " 1   online_order  51717 non-null  object\n",
      " 2   book_table    51717 non-null  object\n",
      " 3   rate          43942 non-null  object\n",
      " 4   votes         51717 non-null  int64 \n",
      " 5   location      51696 non-null  object\n",
      " 6   rest_type     51490 non-null  object\n",
      " 7   cuisines      51672 non-null  object\n",
      " 8   approx_cost   51371 non-null  object\n",
      " 9   area          51717 non-null  object\n",
      "dtypes: int64(1), object(9)\n",
      "memory usage: 3.9+ MB\n"
     ]
    }
   ],
   "source": [
    "#checking and handling the Datatypes\n",
    "#Checking the types of data present in dataset\n",
    "orders_df.info()"
   ]
  },
  {
   "cell_type": "code",
   "execution_count": 9,
   "id": "caf9118b",
   "metadata": {},
   "outputs": [
    {
     "data": {
      "text/plain": [
       "array(['4.1/5', '3.8/5', '3.7/5', '3.6/5', '4.6/5', '4.0/5', '4.2/5',\n",
       "       '3.9/5', '3.1/5', '3.0/5', '3.2/5', '3.3/5', '2.8/5', '4.4/5',\n",
       "       '4.3/5', 'NEW', '2.9/5', '3.5/5', nan, '2.6/5', '3.8 /5', '3.4/5',\n",
       "       '4.5/5', '2.5/5', '2.7/5', '4.7/5', '2.4/5', '2.2/5', '2.3/5',\n",
       "       '3.4 /5', '-', '3.6 /5', '4.8/5', '3.9 /5', '4.2 /5', '4.0 /5',\n",
       "       '4.1 /5', '3.7 /5', '3.1 /5', '2.9 /5', '3.3 /5', '2.8 /5',\n",
       "       '3.5 /5', '2.7 /5', '2.5 /5', '3.2 /5', '2.6 /5', '4.5 /5',\n",
       "       '4.3 /5', '4.4 /5', '4.9/5', '2.1/5', '2.0/5', '1.8/5', '4.6 /5',\n",
       "       '4.9 /5', '3.0 /5', '4.8 /5', '2.3 /5', '4.7 /5', '2.4 /5',\n",
       "       '2.1 /5', '2.2 /5', '2.0 /5', '1.8 /5'], dtype=object)"
      ]
     },
     "execution_count": 9,
     "metadata": {},
     "output_type": "execute_result"
    }
   ],
   "source": [
    "#checking the unique values in rate column of dataset\n",
    "orders_df['rate'].unique()"
   ]
  },
  {
   "cell_type": "code",
   "execution_count": 10,
   "id": "09736a30",
   "metadata": {},
   "outputs": [],
   "source": [
    "#above result shows there are many null values and garbage values also\n",
    "#replacing all null values and garbage values and making it to be converted into numbers\n",
    "orders_df['rate'] = orders_df['rate'].str.replace(\"/5\", \" \")\n",
    "orders_df['rate'] = orders_df['rate'].str.replace(\"nan\", \"NaN\")\n",
    "orders_df['rate'] = orders_df['rate'].str.replace(\"NEW\" , \"NaN\")\n",
    "orders_df['rate'] = orders_df['rate'].str.replace(\"-\" ,\"NaN\")\n",
    "orders_df['rate'] = orders_df['rate'].str.replace(\" /5\", \"\")\n",
    "orders_df['rate'] = orders_df['rate'].fillna(np.nan)\n",
    "orders_df['rate'] = orders_df['rate'].str.replace(\" \",\" \")"
   ]
  },
  {
   "cell_type": "code",
   "execution_count": 11,
   "id": "6816d438",
   "metadata": {},
   "outputs": [
    {
     "data": {
      "text/plain": [
       "array(['4.1 ', '3.8 ', '3.7 ', '3.6 ', '4.6 ', '4.0 ', '4.2 ', '3.9 ',\n",
       "       '3.1 ', '3.0 ', '3.2 ', '3.3 ', '2.8 ', '4.4 ', '4.3 ', 'NaN',\n",
       "       '2.9 ', '3.5 ', nan, '2.6 ', '3.8  ', '3.4 ', '4.5 ', '2.5 ',\n",
       "       '2.7 ', '4.7 ', '2.4 ', '2.2 ', '2.3 ', '3.4  ', '3.6  ', '4.8 ',\n",
       "       '3.9  ', '4.2  ', '4.0  ', '4.1  ', '3.7  ', '3.1  ', '2.9  ',\n",
       "       '3.3  ', '2.8  ', '3.5  ', '2.7  ', '2.5  ', '3.2  ', '2.6  ',\n",
       "       '4.5  ', '4.3  ', '4.4  ', '4.9 ', '2.1 ', '2.0 ', '1.8 ', '4.6  ',\n",
       "       '4.9  ', '3.0  ', '4.8  ', '2.3  ', '4.7  ', '2.4  ', '2.1  ',\n",
       "       '2.2  ', '2.0  ', '1.8  '], dtype=object)"
      ]
     },
     "execution_count": 11,
     "metadata": {},
     "output_type": "execute_result"
    }
   ],
   "source": [
    "#verifying results\n",
    "orders_df['rate'].unique()"
   ]
  },
  {
   "cell_type": "code",
   "execution_count": 12,
   "id": "54f0c60d",
   "metadata": {},
   "outputs": [],
   "source": [
    "#changing datatype of rate column from object to float\n",
    "orders_df['rate'] = orders_df['rate'].astype(float)"
   ]
  },
  {
   "cell_type": "code",
   "execution_count": 13,
   "id": "87bb1a61",
   "metadata": {},
   "outputs": [
    {
     "data": {
      "text/plain": [
       "array(['800', '300', '600', '700', '550', '500', '450', '650', '400',\n",
       "       '900', '200', '750', '150', '850', '100', '1,200', '350', '250',\n",
       "       '950', '1,000', '1,500', '1,300', '199', '80', '1,100', '160',\n",
       "       '1,600', '230', '130', '50', '190', '1,700', nan, '1,400', '180',\n",
       "       '1,350', '2,200', '2,000', '1,800', '1,900', '330', '2,500',\n",
       "       '2,100', '3,000', '2,800', '3,400', '40', '1,250', '3,500',\n",
       "       '4,000', '2,400', '2,600', '120', '1,450', '469', '70', '3,200',\n",
       "       '60', '560', '240', '360', '6,000', '1,050', '2,300', '4,100',\n",
       "       '5,000', '3,700', '1,650', '2,700', '4,500', '140'], dtype=object)"
      ]
     },
     "execution_count": 13,
     "metadata": {},
     "output_type": "execute_result"
    }
   ],
   "source": [
    "#checking unique values in approx cost column of dataset\n",
    "orders_df['approx_cost'].unique()"
   ]
  },
  {
   "cell_type": "code",
   "execution_count": 14,
   "id": "131a340d",
   "metadata": {},
   "outputs": [],
   "source": [
    "#replacing null values and make it able to convert \n",
    "orders_df['approx_cost'] = orders_df['approx_cost'].str.replace(\"nan\" , \"NaN\")\n",
    "orders_df['approx_cost'] = orders_df['approx_cost'].fillna('NaN')\n",
    "orders_df['approx_cost'] = orders_df['approx_cost'].str.replace(\",\" , \"\")"
   ]
  },
  {
   "cell_type": "code",
   "execution_count": 15,
   "id": "eadda4bf",
   "metadata": {},
   "outputs": [
    {
     "data": {
      "text/plain": [
       "array(['800', '300', '600', '700', '550', '500', '450', '650', '400',\n",
       "       '900', '200', '750', '150', '850', '100', '1200', '350', '250',\n",
       "       '950', '1000', '1500', '1300', '199', '80', '1100', '160', '1600',\n",
       "       '230', '130', '50', '190', '1700', 'NaN', '1400', '180', '1350',\n",
       "       '2200', '2000', '1800', '1900', '330', '2500', '2100', '3000',\n",
       "       '2800', '3400', '40', '1250', '3500', '4000', '2400', '2600',\n",
       "       '120', '1450', '469', '70', '3200', '60', '560', '240', '360',\n",
       "       '6000', '1050', '2300', '4100', '5000', '3700', '1650', '2700',\n",
       "       '4500', '140'], dtype=object)"
      ]
     },
     "execution_count": 15,
     "metadata": {},
     "output_type": "execute_result"
    }
   ],
   "source": [
    "#verifying the results\n",
    "orders_df['approx_cost'].unique()"
   ]
  },
  {
   "cell_type": "code",
   "execution_count": 16,
   "id": "19793e5d",
   "metadata": {},
   "outputs": [],
   "source": [
    "#changing datatype of column from object to float\n",
    "orders_df['approx_cost'] = orders_df['approx_cost'].astype(float)"
   ]
  },
  {
   "cell_type": "code",
   "execution_count": 17,
   "id": "994f74bd",
   "metadata": {},
   "outputs": [
    {
     "name": "stdout",
     "output_type": "stream",
     "text": [
      "<class 'pandas.core.frame.DataFrame'>\n",
      "RangeIndex: 51717 entries, 0 to 51716\n",
      "Data columns (total 10 columns):\n",
      " #   Column        Non-Null Count  Dtype  \n",
      "---  ------        --------------  -----  \n",
      " 0   name          51717 non-null  object \n",
      " 1   online_order  51717 non-null  object \n",
      " 2   book_table    51717 non-null  object \n",
      " 3   rate          41665 non-null  float64\n",
      " 4   votes         51717 non-null  int64  \n",
      " 5   location      51696 non-null  object \n",
      " 6   rest_type     51490 non-null  object \n",
      " 7   cuisines      51672 non-null  object \n",
      " 8   approx_cost   51371 non-null  float64\n",
      " 9   area          51717 non-null  object \n",
      "dtypes: float64(2), int64(1), object(7)\n",
      "memory usage: 3.9+ MB\n"
     ]
    }
   ],
   "source": [
    "orders_df.info()"
   ]
  },
  {
   "cell_type": "code",
   "execution_count": 18,
   "id": "10cb290c",
   "metadata": {},
   "outputs": [
    {
     "data": {
      "text/plain": [
       "name                0\n",
       "online_order        0\n",
       "book_table          0\n",
       "rate            10052\n",
       "votes               0\n",
       "location           21\n",
       "rest_type         227\n",
       "cuisines           45\n",
       "approx_cost       346\n",
       "area                0\n",
       "dtype: int64"
      ]
     },
     "execution_count": 18,
     "metadata": {},
     "output_type": "execute_result"
    }
   ],
   "source": [
    "#checking the number of null values columnwise\n",
    "orders_df.isna().sum()"
   ]
  },
  {
   "cell_type": "code",
   "execution_count": 19,
   "id": "75ea7ce4",
   "metadata": {},
   "outputs": [
    {
     "data": {
      "text/plain": [
       "name             0.000000\n",
       "online_order     0.000000\n",
       "book_table       0.000000\n",
       "rate            19.436549\n",
       "votes            0.000000\n",
       "location         0.040606\n",
       "rest_type        0.438927\n",
       "cuisines         0.087012\n",
       "approx_cost      0.669026\n",
       "area             0.000000\n",
       "dtype: float64"
      ]
     },
     "execution_count": 19,
     "metadata": {},
     "output_type": "execute_result"
    }
   ],
   "source": [
    "#checking of percentage of null values in each column\n",
    "(orders_df.isna().sum() / orders_df.shape[0]) * 100"
   ]
  },
  {
   "cell_type": "code",
   "execution_count": 20,
   "id": "1b61b710",
   "metadata": {},
   "outputs": [
    {
     "data": {
      "text/plain": [
       "name               0\n",
       "online_order       0\n",
       "book_table         0\n",
       "rate            9885\n",
       "votes              0\n",
       "location           0\n",
       "rest_type          0\n",
       "cuisines           0\n",
       "approx_cost        0\n",
       "area               0\n",
       "dtype: int64"
      ]
     },
     "execution_count": 20,
     "metadata": {},
     "output_type": "execute_result"
    }
   ],
   "source": [
    "#we dropping null values from columns having lesser number of null values\n",
    "orders_df = orders_df[orders_df[\"location\"].notna()]\n",
    "orders_df = orders_df[orders_df[\"rest_type\"].notna()]\n",
    "orders_df = orders_df[orders_df[\"cuisines\"].notna()]\n",
    "orders_df = orders_df[orders_df[\"approx_cost\"].notna()]\n",
    "\n",
    "#verifying results\n",
    "orders_df.isna().sum()\n"
   ]
  },
  {
   "cell_type": "code",
   "execution_count": 21,
   "id": "42a5fea5",
   "metadata": {},
   "outputs": [
    {
     "data": {
      "text/plain": [
       "count    41263.000000\n",
       "mean         3.702011\n",
       "std          0.439985\n",
       "min          1.800000\n",
       "25%          3.400000\n",
       "50%          3.700000\n",
       "75%          4.000000\n",
       "max          4.900000\n",
       "Name: rate, dtype: float64"
      ]
     },
     "execution_count": 21,
     "metadata": {},
     "output_type": "execute_result"
    }
   ],
   "source": [
    "#rate columns consists of huge null values but dropping this column leads to large amount of data.so,instead of dropping it ,we will impute with either mean,mode or median\n",
    "#checking all statistics of rate column\n",
    "orders_df['rate'].describe()"
   ]
  },
  {
   "cell_type": "code",
   "execution_count": 22,
   "id": "0b418d8c",
   "metadata": {},
   "outputs": [
    {
     "data": {
      "text/plain": [
       "name            0\n",
       "online_order    0\n",
       "book_table      0\n",
       "rate            0\n",
       "votes           0\n",
       "location        0\n",
       "rest_type       0\n",
       "cuisines        0\n",
       "approx_cost     0\n",
       "area            0\n",
       "dtype: int64"
      ]
     },
     "execution_count": 22,
     "metadata": {},
     "output_type": "execute_result"
    }
   ],
   "source": [
    "#impoting null values with median of rate column\n",
    "orders_df['rate'] = orders_df['rate'].fillna(orders_df['rate'].median())\n",
    "orders_df.isna().sum()"
   ]
  },
  {
   "cell_type": "code",
   "execution_count": 23,
   "id": "8db66047",
   "metadata": {},
   "outputs": [],
   "source": [
    "#now after dropping  values we will rest the index\n",
    "orders_df.reset_index(inplace=True)\n",
    "orders_df.drop(['index'],axis=1,inplace=True)"
   ]
  },
  {
   "cell_type": "markdown",
   "id": "6a5de52b",
   "metadata": {},
   "source": [
    "## Data visualization"
   ]
  },
  {
   "cell_type": "markdown",
   "id": "1094b22a",
   "metadata": {},
   "source": [
    "#### No.of orders vs Restaurants"
   ]
  },
  {
   "cell_type": "code",
   "execution_count": 24,
   "id": "fc6312fa",
   "metadata": {},
   "outputs": [
    {
     "data": {
      "image/png": "[encoded data removed]",
      "text/plain": [
       "<Figure size 1100x400 with 1 Axes>"
      ]
     },
     "metadata": {},
     "output_type": "display_data"
    }
   ],
   "source": [
    "#checking for restaurants got higher orders\n",
    "plt.figure(figsize= (11,4))\n",
    "data = orders_df['name'].value_counts()[ : 30]\n",
    "data.plot(kind='bar')\n",
    "plt.xlabel('no of resturants',size= 14)\n",
    "plt.ylabel('no of orders' , size = 14)\n",
    "plt.title(\"Resturants with maximum no of orders\", fontsize=15)\n",
    "plt.show()"
   ]
  },
  {
   "cell_type": "markdown",
   "id": "1bcfe224",
   "metadata": {},
   "source": [
    "#### Above graph shows that Cafe coffee Day and onesta got slightly higher number of orders as compared to others restaurants while others got approximatley same number of orders."
   ]
  },
  {
   "cell_type": "markdown",
   "id": "bf2d0d70",
   "metadata": {},
   "source": [
    "### Number of Restaurants having online order facility"
   ]
  },
  {
   "cell_type": "code",
   "execution_count": 26,
   "id": "29525897",
   "metadata": {},
   "outputs": [
    {
     "data": {
      "image/png": "[encoded data removed]",
      "text/plain": [
       "<Figure size 800x500 with 1 Axes>"
      ]
     },
     "metadata": {},
     "output_type": "display_data"
    }
   ],
   "source": [
    "#checking no of resturants having online order facility\n",
    "data = orders_df[['name' , 'online_order']].drop_duplicates()\n",
    "plt.figure(figsize = (8,5))\n",
    "ax= sns.countplot(x='online_order',data=data).set_title('online order facility',fontsize= 15)\n",
    "plt.show()"
   ]
  },
  {
   "cell_type": "markdown",
   "id": "78c8756d",
   "metadata": {},
   "source": [
    "####  From above chart, we can see only 4397 restaurants in Banglore have Online order facility which lessthan half of restaurants."
   ]
  },
  {
   "cell_type": "markdown",
   "id": "d43d506b",
   "metadata": {},
   "source": [
    "### Number of restaurants having prebooking Table facility"
   ]
  },
  {
   "cell_type": "code",
   "execution_count": 27,
   "id": "dfa9279d",
   "metadata": {},
   "outputs": [
    {
     "data": {
      "image/png": "[encoded data removed]",
      "text/plain": [
       "<Figure size 800x600 with 1 Axes>"
      ]
     },
     "metadata": {},
     "output_type": "display_data"
    }
   ],
   "source": [
    "#checking number of restaurants having prebooking table facility\n",
    "data = orders_df[['name' ,'book_table']].drop_duplicates()\n",
    "plt.figure(figsize = (8,6))\n",
    "ax = sns.countplot(x=\"book_table\",data=data).set_title('pre booking facility', fontsize =15)\n",
    "plt.show()"
   ]
  },
  {
   "cell_type": "markdown",
   "id": "292193ab",
   "metadata": {},
   "source": [
    "#### we can see Most of the restaurants in Banglore doesn't have Pre Booking Facility  which is about 8011 , only 820 restaurants having these facility."
   ]
  },
  {
   "cell_type": "markdown",
   "id": "54fe68f8",
   "metadata": {},
   "source": [
    "# Most common Ratings for orders"
   ]
  },
  {
   "cell_type": "code",
   "execution_count": 29,
   "id": "c9516723",
   "metadata": {},
   "outputs": [
    {
     "data": {
      "image/png": "[encoded data removed]",
      "text/plain": [
       "<Figure size 640x480 with 1 Axes>"
      ]
     },
     "metadata": {},
     "output_type": "display_data"
    }
   ],
   "source": [
    "#checking most common ratings for orders\n",
    "data = orders_df.rate.value_counts().reset_index()[0:20]\n",
    "sns.barplot(x= data['rate'] , y= data['count'])\n",
    "plt.xlabel('Ratings')\n",
    "plt.ylabel('no.of oders')\n",
    "plt.title('most common ratings',size =15)\n",
    "plt.show()"
   ]
  },
  {
   "cell_type": "markdown",
   "id": "d1c88089",
   "metadata": {},
   "source": [
    "#### we can see maximum number of orders got the 3.7 rating for restaurants"
   ]
  },
  {
   "cell_type": "markdown",
   "id": "d36d194c",
   "metadata": {},
   "source": [
    "## Encoding columns"
   ]
  },
  {
   "cell_type": "code",
   "execution_count": 30,
   "id": "7b677307",
   "metadata": {},
   "outputs": [
    {
     "data": {
      "text/html": [
       "<div>\n",
       "<style scoped>\n",
       "    .dataframe tbody tr th:only-of-type {\n",
       "        vertical-align: middle;\n",
       "    }\n",
       "\n",
       "    .dataframe tbody tr th {\n",
       "        vertical-align: top;\n",
       "    }\n",
       "\n",
       "    .dataframe thead th {\n",
       "        text-align: right;\n",
       "    }\n",
       "</style>\n",
       "<table border=\"1\" class=\"dataframe\">\n",
       "  <thead>\n",
       "    <tr style=\"text-align: right;\">\n",
       "      <th></th>\n",
       "      <th>name</th>\n",
       "      <th>online_order</th>\n",
       "      <th>book_table</th>\n",
       "      <th>rate</th>\n",
       "      <th>votes</th>\n",
       "      <th>location</th>\n",
       "      <th>rest_type</th>\n",
       "      <th>cuisines</th>\n",
       "      <th>approx_cost</th>\n",
       "      <th>area</th>\n",
       "    </tr>\n",
       "  </thead>\n",
       "  <tbody>\n",
       "    <tr>\n",
       "      <th>0</th>\n",
       "      <td>Jalsa</td>\n",
       "      <td>1</td>\n",
       "      <td>1</td>\n",
       "      <td>4.1</td>\n",
       "      <td>775</td>\n",
       "      <td>Banashankari</td>\n",
       "      <td>Casual Dining</td>\n",
       "      <td>North Indian, Mughlai, Chinese</td>\n",
       "      <td>800.0</td>\n",
       "      <td>Banashankari</td>\n",
       "    </tr>\n",
       "    <tr>\n",
       "      <th>1</th>\n",
       "      <td>Spice Elephant</td>\n",
       "      <td>1</td>\n",
       "      <td>0</td>\n",
       "      <td>4.1</td>\n",
       "      <td>787</td>\n",
       "      <td>Banashankari</td>\n",
       "      <td>Casual Dining</td>\n",
       "      <td>Chinese, North Indian, Thai</td>\n",
       "      <td>800.0</td>\n",
       "      <td>Banashankari</td>\n",
       "    </tr>\n",
       "    <tr>\n",
       "      <th>2</th>\n",
       "      <td>San Churro Cafe</td>\n",
       "      <td>1</td>\n",
       "      <td>0</td>\n",
       "      <td>3.8</td>\n",
       "      <td>918</td>\n",
       "      <td>Banashankari</td>\n",
       "      <td>Cafe, Casual Dining</td>\n",
       "      <td>Cafe, Mexican, Italian</td>\n",
       "      <td>800.0</td>\n",
       "      <td>Banashankari</td>\n",
       "    </tr>\n",
       "    <tr>\n",
       "      <th>3</th>\n",
       "      <td>Addhuri Udupi Bhojana</td>\n",
       "      <td>0</td>\n",
       "      <td>0</td>\n",
       "      <td>3.7</td>\n",
       "      <td>88</td>\n",
       "      <td>Banashankari</td>\n",
       "      <td>Quick Bites</td>\n",
       "      <td>South Indian, North Indian</td>\n",
       "      <td>300.0</td>\n",
       "      <td>Banashankari</td>\n",
       "    </tr>\n",
       "    <tr>\n",
       "      <th>4</th>\n",
       "      <td>Grand Village</td>\n",
       "      <td>0</td>\n",
       "      <td>0</td>\n",
       "      <td>3.8</td>\n",
       "      <td>166</td>\n",
       "      <td>Basavanagudi</td>\n",
       "      <td>Casual Dining</td>\n",
       "      <td>North Indian, Rajasthani</td>\n",
       "      <td>600.0</td>\n",
       "      <td>Banashankari</td>\n",
       "    </tr>\n",
       "  </tbody>\n",
       "</table>\n",
       "</div>"
      ],
      "text/plain": [
       "                    name  online_order  book_table  rate  votes      location  \\\n",
       "0                  Jalsa             1           1   4.1    775  Banashankari   \n",
       "1         Spice Elephant             1           0   4.1    787  Banashankari   \n",
       "2        San Churro Cafe             1           0   3.8    918  Banashankari   \n",
       "3  Addhuri Udupi Bhojana             0           0   3.7     88  Banashankari   \n",
       "4          Grand Village             0           0   3.8    166  Basavanagudi   \n",
       "\n",
       "             rest_type                        cuisines  approx_cost  \\\n",
       "0        Casual Dining  North Indian, Mughlai, Chinese        800.0   \n",
       "1        Casual Dining     Chinese, North Indian, Thai        800.0   \n",
       "2  Cafe, Casual Dining          Cafe, Mexican, Italian        800.0   \n",
       "3          Quick Bites      South Indian, North Indian        300.0   \n",
       "4        Casual Dining        North Indian, Rajasthani        600.0   \n",
       "\n",
       "           area  \n",
       "0  Banashankari  \n",
       "1  Banashankari  \n",
       "2  Banashankari  \n",
       "3  Banashankari  \n",
       "4  Banashankari  "
      ]
     },
     "execution_count": 30,
     "metadata": {},
     "output_type": "execute_result"
    }
   ],
   "source": [
    "#online order column\n",
    "orders_df['online_order']= orders_df['online_order'].replace({\"Yes\": 1 ,\"No\" :0})\n",
    "#Book_table column\n",
    "orders_df['book_table']= orders_df['book_table'].replace({\"Yes\": 1 ,\"No\" :0})\n",
    "orders_df.head()"
   ]
  },
  {
   "cell_type": "code",
   "execution_count": 31,
   "id": "611773a2",
   "metadata": {},
   "outputs": [],
   "source": [
    "#label encode the categorical variables to make it easier to build algorithm\n",
    "\n",
    "from sklearn.preprocessing import LabelEncoder\n",
    "le=LabelEncoder()\n"
   ]
  },
  {
   "cell_type": "code",
   "execution_count": 32,
   "id": "52f24d7a",
   "metadata": {},
   "outputs": [],
   "source": [
    "orders_df.location = le.fit_transform(orders_df.location )\n",
    "orders_df.rest_type = le.fit_transform(orders_df.rest_type )\n",
    "orders_df.cuisines = le.fit_transform(orders_df.cuisines )\n",
    "orders_df.area = le.fit_transform(orders_df.area )"
   ]
  },
  {
   "cell_type": "code",
   "execution_count": 33,
   "id": "d2efba9b",
   "metadata": {},
   "outputs": [
    {
     "data": {
      "text/html": [
       "<div>\n",
       "<style scoped>\n",
       "    .dataframe tbody tr th:only-of-type {\n",
       "        vertical-align: middle;\n",
       "    }\n",
       "\n",
       "    .dataframe tbody tr th {\n",
       "        vertical-align: top;\n",
       "    }\n",
       "\n",
       "    .dataframe thead th {\n",
       "        text-align: right;\n",
       "    }\n",
       "</style>\n",
       "<table border=\"1\" class=\"dataframe\">\n",
       "  <thead>\n",
       "    <tr style=\"text-align: right;\">\n",
       "      <th></th>\n",
       "      <th>name</th>\n",
       "      <th>online_order</th>\n",
       "      <th>book_table</th>\n",
       "      <th>rate</th>\n",
       "      <th>votes</th>\n",
       "      <th>location</th>\n",
       "      <th>rest_type</th>\n",
       "      <th>cuisines</th>\n",
       "      <th>approx_cost</th>\n",
       "      <th>area</th>\n",
       "    </tr>\n",
       "  </thead>\n",
       "  <tbody>\n",
       "    <tr>\n",
       "      <th>0</th>\n",
       "      <td>Jalsa</td>\n",
       "      <td>1</td>\n",
       "      <td>1</td>\n",
       "      <td>4.1</td>\n",
       "      <td>775</td>\n",
       "      <td>1</td>\n",
       "      <td>27</td>\n",
       "      <td>2145</td>\n",
       "      <td>800.0</td>\n",
       "      <td>1</td>\n",
       "    </tr>\n",
       "    <tr>\n",
       "      <th>1</th>\n",
       "      <td>Spice Elephant</td>\n",
       "      <td>1</td>\n",
       "      <td>0</td>\n",
       "      <td>4.1</td>\n",
       "      <td>787</td>\n",
       "      <td>1</td>\n",
       "      <td>27</td>\n",
       "      <td>947</td>\n",
       "      <td>800.0</td>\n",
       "      <td>1</td>\n",
       "    </tr>\n",
       "    <tr>\n",
       "      <th>2</th>\n",
       "      <td>San Churro Cafe</td>\n",
       "      <td>1</td>\n",
       "      <td>0</td>\n",
       "      <td>3.8</td>\n",
       "      <td>918</td>\n",
       "      <td>1</td>\n",
       "      <td>22</td>\n",
       "      <td>761</td>\n",
       "      <td>800.0</td>\n",
       "      <td>1</td>\n",
       "    </tr>\n",
       "    <tr>\n",
       "      <th>3</th>\n",
       "      <td>Addhuri Udupi Bhojana</td>\n",
       "      <td>0</td>\n",
       "      <td>0</td>\n",
       "      <td>3.7</td>\n",
       "      <td>88</td>\n",
       "      <td>1</td>\n",
       "      <td>78</td>\n",
       "      <td>2539</td>\n",
       "      <td>300.0</td>\n",
       "      <td>1</td>\n",
       "    </tr>\n",
       "    <tr>\n",
       "      <th>4</th>\n",
       "      <td>Grand Village</td>\n",
       "      <td>0</td>\n",
       "      <td>0</td>\n",
       "      <td>3.8</td>\n",
       "      <td>166</td>\n",
       "      <td>4</td>\n",
       "      <td>27</td>\n",
       "      <td>2174</td>\n",
       "      <td>600.0</td>\n",
       "      <td>1</td>\n",
       "    </tr>\n",
       "  </tbody>\n",
       "</table>\n",
       "</div>"
      ],
      "text/plain": [
       "                    name  online_order  book_table  rate  votes  location  \\\n",
       "0                  Jalsa             1           1   4.1    775         1   \n",
       "1         Spice Elephant             1           0   4.1    787         1   \n",
       "2        San Churro Cafe             1           0   3.8    918         1   \n",
       "3  Addhuri Udupi Bhojana             0           0   3.7     88         1   \n",
       "4          Grand Village             0           0   3.8    166         4   \n",
       "\n",
       "   rest_type  cuisines  approx_cost  area  \n",
       "0         27      2145        800.0     1  \n",
       "1         27       947        800.0     1  \n",
       "2         22       761        800.0     1  \n",
       "3         78      2539        300.0     1  \n",
       "4         27      2174        600.0     1  "
      ]
     },
     "execution_count": 33,
     "metadata": {},
     "output_type": "execute_result"
    }
   ],
   "source": [
    "orders_df.head()"
   ]
  },
  {
   "cell_type": "markdown",
   "id": "d01bacf1",
   "metadata": {},
   "source": [
    "### Feature selection"
   ]
  },
  {
   "cell_type": "code",
   "execution_count": 34,
   "id": "cbbd6754",
   "metadata": {},
   "outputs": [
    {
     "data": {
      "text/html": [
       "<div>\n",
       "<style scoped>\n",
       "    .dataframe tbody tr th:only-of-type {\n",
       "        vertical-align: middle;\n",
       "    }\n",
       "\n",
       "    .dataframe tbody tr th {\n",
       "        vertical-align: top;\n",
       "    }\n",
       "\n",
       "    .dataframe thead th {\n",
       "        text-align: right;\n",
       "    }\n",
       "</style>\n",
       "<table border=\"1\" class=\"dataframe\">\n",
       "  <thead>\n",
       "    <tr style=\"text-align: right;\">\n",
       "      <th></th>\n",
       "      <th>online_order</th>\n",
       "      <th>book_table</th>\n",
       "      <th>votes</th>\n",
       "      <th>location</th>\n",
       "      <th>rest_type</th>\n",
       "      <th>cuisines</th>\n",
       "      <th>approx_cost</th>\n",
       "      <th>area</th>\n",
       "    </tr>\n",
       "  </thead>\n",
       "  <tbody>\n",
       "    <tr>\n",
       "      <th>0</th>\n",
       "      <td>1</td>\n",
       "      <td>1</td>\n",
       "      <td>775</td>\n",
       "      <td>1</td>\n",
       "      <td>27</td>\n",
       "      <td>2145</td>\n",
       "      <td>800.0</td>\n",
       "      <td>1</td>\n",
       "    </tr>\n",
       "    <tr>\n",
       "      <th>1</th>\n",
       "      <td>1</td>\n",
       "      <td>0</td>\n",
       "      <td>787</td>\n",
       "      <td>1</td>\n",
       "      <td>27</td>\n",
       "      <td>947</td>\n",
       "      <td>800.0</td>\n",
       "      <td>1</td>\n",
       "    </tr>\n",
       "    <tr>\n",
       "      <th>2</th>\n",
       "      <td>1</td>\n",
       "      <td>0</td>\n",
       "      <td>918</td>\n",
       "      <td>1</td>\n",
       "      <td>22</td>\n",
       "      <td>761</td>\n",
       "      <td>800.0</td>\n",
       "      <td>1</td>\n",
       "    </tr>\n",
       "    <tr>\n",
       "      <th>3</th>\n",
       "      <td>0</td>\n",
       "      <td>0</td>\n",
       "      <td>88</td>\n",
       "      <td>1</td>\n",
       "      <td>78</td>\n",
       "      <td>2539</td>\n",
       "      <td>300.0</td>\n",
       "      <td>1</td>\n",
       "    </tr>\n",
       "    <tr>\n",
       "      <th>4</th>\n",
       "      <td>0</td>\n",
       "      <td>0</td>\n",
       "      <td>166</td>\n",
       "      <td>4</td>\n",
       "      <td>27</td>\n",
       "      <td>2174</td>\n",
       "      <td>600.0</td>\n",
       "      <td>1</td>\n",
       "    </tr>\n",
       "  </tbody>\n",
       "</table>\n",
       "</div>"
      ],
      "text/plain": [
       "   online_order  book_table  votes  location  rest_type  cuisines  \\\n",
       "0             1           1    775         1         27      2145   \n",
       "1             1           0    787         1         27       947   \n",
       "2             1           0    918         1         22       761   \n",
       "3             0           0     88         1         78      2539   \n",
       "4             0           0    166         4         27      2174   \n",
       "\n",
       "   approx_cost  area  \n",
       "0        800.0     1  \n",
       "1        800.0     1  \n",
       "2        800.0     1  \n",
       "3        300.0     1  \n",
       "4        600.0     1  "
      ]
     },
     "execution_count": 34,
     "metadata": {},
     "output_type": "execute_result"
    }
   ],
   "source": [
    "#input features\n",
    "x=orders_df.iloc[ : ,[1,2,4,5,6,7,8,9]]\n",
    "x.head()"
   ]
  },
  {
   "cell_type": "code",
   "execution_count": 35,
   "id": "4aa1b2dd",
   "metadata": {},
   "outputs": [
    {
     "data": {
      "text/plain": [
       "0        4.1\n",
       "1        4.1\n",
       "2        3.8\n",
       "3        3.7\n",
       "4        3.8\n",
       "        ... \n",
       "51143    3.6\n",
       "51144    3.7\n",
       "51145    3.7\n",
       "51146    4.3\n",
       "51147    3.4\n",
       "Name: rate, Length: 51148, dtype: float64"
      ]
     },
     "execution_count": 35,
     "metadata": {},
     "output_type": "execute_result"
    }
   ],
   "source": [
    "#output feature\n",
    "y=orders_df['rate']\n",
    "y"
   ]
  },
  {
   "cell_type": "code",
   "execution_count": 36,
   "id": "bc8e971a",
   "metadata": {},
   "outputs": [],
   "source": [
    "#splitting dataset into testing and training\n",
    "from sklearn.model_selection import train_test_split\n",
    "x_train,x_test,y_train,y_test= train_test_split(x,y,test_size=0.3,random_state=0)"
   ]
  },
  {
   "cell_type": "markdown",
   "id": "f50aa633",
   "metadata": {},
   "source": [
    "##### Importing ML models "
   ]
  },
  {
   "cell_type": "code",
   "execution_count": 37,
   "id": "1d7c4d9a",
   "metadata": {},
   "outputs": [],
   "source": [
    "from sklearn.linear_model import LinearRegression\n",
    "from sklearn.tree import DecisionTreeRegressor\n",
    "from sklearn.ensemble import ExtraTreesRegressor\n",
    "from sklearn.ensemble import RandomForestRegressor"
   ]
  },
  {
   "cell_type": "markdown",
   "id": "30762eb3",
   "metadata": {},
   "source": [
    "######   Linear Regression"
   ]
  },
  {
   "cell_type": "code",
   "execution_count": 38,
   "id": "37306a74",
   "metadata": {},
   "outputs": [
    {
     "data": {
      "text/html": [
       "<style>#sk-container-id-1 {color: black;}#sk-container-id-1 pre{padding: 0;}#sk-container-id-1 div.sk-toggleable {background-color: white;}#sk-container-id-1 label.sk-toggleable__label {cursor: pointer;display: block;width: 100%;margin-bottom: 0;padding: 0.3em;box-sizing: border-box;text-align: center;}#sk-container-id-1 label.sk-toggleable__label-arrow:before {content: \"▸\";float: left;margin-right: 0.25em;color: #696969;}#sk-container-id-1 label.sk-toggleable__label-arrow:hover:before {color: black;}#sk-container-id-1 div.sk-estimator:hover label.sk-toggleable__label-arrow:before {color: black;}#sk-container-id-1 div.sk-toggleable__content {max-height: 0;max-width: 0;overflow: hidden;text-align: left;background-color: #f0f8ff;}#sk-container-id-1 div.sk-toggleable__content pre {margin: 0.2em;color: black;border-radius: 0.25em;background-color: #f0f8ff;}#sk-container-id-1 input.sk-toggleable__control:checked~div.sk-toggleable__content {max-height: 200px;max-width: 100%;overflow: auto;}#sk-container-id-1 input.sk-toggleable__control:checked~label.sk-toggleable__label-arrow:before {content: \"▾\";}#sk-container-id-1 div.sk-estimator input.sk-toggleable__control:checked~label.sk-toggleable__label {background-color: #d4ebff;}#sk-container-id-1 div.sk-label input.sk-toggleable__control:checked~label.sk-toggleable__label {background-color: #d4ebff;}#sk-container-id-1 input.sk-hidden--visually {border: 0;clip: rect(1px 1px 1px 1px);clip: rect(1px, 1px, 1px, 1px);height: 1px;margin: -1px;overflow: hidden;padding: 0;position: absolute;width: 1px;}#sk-container-id-1 div.sk-estimator {font-family: monospace;background-color: #f0f8ff;border: 1px dotted black;border-radius: 0.25em;box-sizing: border-box;margin-bottom: 0.5em;}#sk-container-id-1 div.sk-estimator:hover {background-color: #d4ebff;}#sk-container-id-1 div.sk-parallel-item::after {content: \"\";width: 100%;border-bottom: 1px solid gray;flex-grow: 1;}#sk-container-id-1 div.sk-label:hover label.sk-toggleable__label {background-color: #d4ebff;}#sk-container-id-1 div.sk-serial::before {content: \"\";position: absolute;border-left: 1px solid gray;box-sizing: border-box;top: 0;bottom: 0;left: 50%;z-index: 0;}#sk-container-id-1 div.sk-serial {display: flex;flex-direction: column;align-items: center;background-color: white;padding-right: 0.2em;padding-left: 0.2em;position: relative;}#sk-container-id-1 div.sk-item {position: relative;z-index: 1;}#sk-container-id-1 div.sk-parallel {display: flex;align-items: stretch;justify-content: center;background-color: white;position: relative;}#sk-container-id-1 div.sk-item::before, #sk-container-id-1 div.sk-parallel-item::before {content: \"\";position: absolute;border-left: 1px solid gray;box-sizing: border-box;top: 0;bottom: 0;left: 50%;z-index: -1;}#sk-container-id-1 div.sk-parallel-item {display: flex;flex-direction: column;z-index: 1;position: relative;background-color: white;}#sk-container-id-1 div.sk-parallel-item:first-child::after {align-self: flex-end;width: 50%;}#sk-container-id-1 div.sk-parallel-item:last-child::after {align-self: flex-start;width: 50%;}#sk-container-id-1 div.sk-parallel-item:only-child::after {width: 0;}#sk-container-id-1 div.sk-dashed-wrapped {border: 1px dashed gray;margin: 0 0.4em 0.5em 0.4em;box-sizing: border-box;padding-bottom: 0.4em;background-color: white;}#sk-container-id-1 div.sk-label label {font-family: monospace;font-weight: bold;display: inline-block;line-height: 1.2em;}#sk-container-id-1 div.sk-label-container {text-align: center;}#sk-container-id-1 div.sk-container {/* jupyter's `normalize.less` sets `[hidden] { display: none; }` but bootstrap.min.css set `[hidden] { display: none !important; }` so we also need the `!important` here to be able to override the default hidden behavior on the sphinx rendered scikit-learn.org. See: https://github.com/scikit-learn/scikit-learn/issues/21755 */display: inline-block !important;position: relative;}#sk-container-id-1 div.sk-text-repr-fallback {display: none;}</style><div id=\"sk-container-id-1\" class=\"sk-top-container\"><div class=\"sk-text-repr-fallback\"><pre>LinearRegression()</pre><b>In a Jupyter environment, please rerun this cell to show the HTML representation or trust the notebook. <br />On GitHub, the HTML representation is unable to render, please try loading this page with nbviewer.org.</b></div><div class=\"sk-container\" hidden><div class=\"sk-item\"><div class=\"sk-estimator sk-toggleable\"><input class=\"sk-toggleable__control sk-hidden--visually\" id=\"sk-estimator-id-1\" type=\"checkbox\" checked><label for=\"sk-estimator-id-1\" class=\"sk-toggleable__label sk-toggleable__label-arrow\">LinearRegression</label><div class=\"sk-toggleable__content\"><pre>LinearRegression()</pre></div></div></div></div></div>"
      ],
      "text/plain": [
       "LinearRegression()"
      ]
     },
     "execution_count": 38,
     "metadata": {},
     "output_type": "execute_result"
    }
   ],
   "source": [
    "lr_model = LinearRegression()\n",
    "lr_model.fit(x_train,y_train)\n"
   ]
  },
  {
   "cell_type": "code",
   "execution_count": 39,
   "id": "c3e98ddf",
   "metadata": {},
   "outputs": [
    {
     "data": {
      "text/plain": [
       "array([3.63085761, 3.56381298, 3.9618806 , 3.68402402, 3.99816324,\n",
       "       3.60206294, 3.69532667, 3.67552471, 3.56597602, 3.71460543,\n",
       "       3.61016227, 3.58570745, 3.56473534, 3.54688692, 3.68417832,\n",
       "       3.55341661, 3.62646607, 3.59564685, 3.8529658 , 4.30991288,\n",
       "       3.66864408, 3.75584845, 3.58625548, 3.74172024, 4.11181838,\n",
       "       3.63859085, 3.6506041 , 3.67659178, 3.60030849, 3.68442236,\n",
       "       3.64210635, 3.56174045, 3.5718062 , 3.66624301, 3.56332163,\n",
       "       3.65907097, 3.63870595, 3.54042742, 3.66979948, 3.54315803,\n",
       "       3.57621927, 3.53553971, 4.11942052, 3.64719674, 4.12921011,\n",
       "       3.58125654, 3.58920804, 3.58100867, 4.45947823, 3.53702084])"
      ]
     },
     "execution_count": 39,
     "metadata": {},
     "output_type": "execute_result"
    }
   ],
   "source": [
    "y_lr= lr_model.predict(x_test)\n",
    "y_lr[ :50]"
   ]
  },
  {
   "cell_type": "code",
   "execution_count": 40,
   "id": "3b593e09",
   "metadata": {},
   "outputs": [],
   "source": [
    "from sklearn.metrics import mean_absolute_error, mean_squared_error,r2_score"
   ]
  },
  {
   "cell_type": "code",
   "execution_count": 41,
   "id": "032fd777",
   "metadata": {},
   "outputs": [
    {
     "name": "stdout",
     "output_type": "stream",
     "text": [
      "mean absolute error: 0.2536570786323493\n",
      "mean squared error: 0.11519452327277957\n",
      "Accuracy of model\n",
      "r2 score: 0.2666037154845199\n"
     ]
    }
   ],
   "source": [
    "#metrics for linear regression\n",
    "\n",
    "mae1 = mean_absolute_error(y_test,y_lr)\n",
    "mse1 = mean_squared_error(y_test,y_lr)\n",
    "r2score1 =r2_score(y_test,y_lr)\n",
    "print(\"mean absolute error:\",mae1)\n",
    "print(\"mean squared error:\" ,mse1)\n",
    "print(\"Accuracy of model\")\n",
    "print(\"r2 score:\" ,r2score1)"
   ]
  },
  {
   "cell_type": "markdown",
   "id": "2bc6c689",
   "metadata": {},
   "source": [
    "#### Decision Tree Regressor"
   ]
  },
  {
   "cell_type": "code",
   "execution_count": 42,
   "id": "c4962b2f",
   "metadata": {},
   "outputs": [
    {
     "data": {
      "text/html": [
       "<style>#sk-container-id-2 {color: black;}#sk-container-id-2 pre{padding: 0;}#sk-container-id-2 div.sk-toggleable {background-color: white;}#sk-container-id-2 label.sk-toggleable__label {cursor: pointer;display: block;width: 100%;margin-bottom: 0;padding: 0.3em;box-sizing: border-box;text-align: center;}#sk-container-id-2 label.sk-toggleable__label-arrow:before {content: \"▸\";float: left;margin-right: 0.25em;color: #696969;}#sk-container-id-2 label.sk-toggleable__label-arrow:hover:before {color: black;}#sk-container-id-2 div.sk-estimator:hover label.sk-toggleable__label-arrow:before {color: black;}#sk-container-id-2 div.sk-toggleable__content {max-height: 0;max-width: 0;overflow: hidden;text-align: left;background-color: #f0f8ff;}#sk-container-id-2 div.sk-toggleable__content pre {margin: 0.2em;color: black;border-radius: 0.25em;background-color: #f0f8ff;}#sk-container-id-2 input.sk-toggleable__control:checked~div.sk-toggleable__content {max-height: 200px;max-width: 100%;overflow: auto;}#sk-container-id-2 input.sk-toggleable__control:checked~label.sk-toggleable__label-arrow:before {content: \"▾\";}#sk-container-id-2 div.sk-estimator input.sk-toggleable__control:checked~label.sk-toggleable__label {background-color: #d4ebff;}#sk-container-id-2 div.sk-label input.sk-toggleable__control:checked~label.sk-toggleable__label {background-color: #d4ebff;}#sk-container-id-2 input.sk-hidden--visually {border: 0;clip: rect(1px 1px 1px 1px);clip: rect(1px, 1px, 1px, 1px);height: 1px;margin: -1px;overflow: hidden;padding: 0;position: absolute;width: 1px;}#sk-container-id-2 div.sk-estimator {font-family: monospace;background-color: #f0f8ff;border: 1px dotted black;border-radius: 0.25em;box-sizing: border-box;margin-bottom: 0.5em;}#sk-container-id-2 div.sk-estimator:hover {background-color: #d4ebff;}#sk-container-id-2 div.sk-parallel-item::after {content: \"\";width: 100%;border-bottom: 1px solid gray;flex-grow: 1;}#sk-container-id-2 div.sk-label:hover label.sk-toggleable__label {background-color: #d4ebff;}#sk-container-id-2 div.sk-serial::before {content: \"\";position: absolute;border-left: 1px solid gray;box-sizing: border-box;top: 0;bottom: 0;left: 50%;z-index: 0;}#sk-container-id-2 div.sk-serial {display: flex;flex-direction: column;align-items: center;background-color: white;padding-right: 0.2em;padding-left: 0.2em;position: relative;}#sk-container-id-2 div.sk-item {position: relative;z-index: 1;}#sk-container-id-2 div.sk-parallel {display: flex;align-items: stretch;justify-content: center;background-color: white;position: relative;}#sk-container-id-2 div.sk-item::before, #sk-container-id-2 div.sk-parallel-item::before {content: \"\";position: absolute;border-left: 1px solid gray;box-sizing: border-box;top: 0;bottom: 0;left: 50%;z-index: -1;}#sk-container-id-2 div.sk-parallel-item {display: flex;flex-direction: column;z-index: 1;position: relative;background-color: white;}#sk-container-id-2 div.sk-parallel-item:first-child::after {align-self: flex-end;width: 50%;}#sk-container-id-2 div.sk-parallel-item:last-child::after {align-self: flex-start;width: 50%;}#sk-container-id-2 div.sk-parallel-item:only-child::after {width: 0;}#sk-container-id-2 div.sk-dashed-wrapped {border: 1px dashed gray;margin: 0 0.4em 0.5em 0.4em;box-sizing: border-box;padding-bottom: 0.4em;background-color: white;}#sk-container-id-2 div.sk-label label {font-family: monospace;font-weight: bold;display: inline-block;line-height: 1.2em;}#sk-container-id-2 div.sk-label-container {text-align: center;}#sk-container-id-2 div.sk-container {/* jupyter's `normalize.less` sets `[hidden] { display: none; }` but bootstrap.min.css set `[hidden] { display: none !important; }` so we also need the `!important` here to be able to override the default hidden behavior on the sphinx rendered scikit-learn.org. See: https://github.com/scikit-learn/scikit-learn/issues/21755 */display: inline-block !important;position: relative;}#sk-container-id-2 div.sk-text-repr-fallback {display: none;}</style><div id=\"sk-container-id-2\" class=\"sk-top-container\"><div class=\"sk-text-repr-fallback\"><pre>DecisionTreeRegressor()</pre><b>In a Jupyter environment, please rerun this cell to show the HTML representation or trust the notebook. <br />On GitHub, the HTML representation is unable to render, please try loading this page with nbviewer.org.</b></div><div class=\"sk-container\" hidden><div class=\"sk-item\"><div class=\"sk-estimator sk-toggleable\"><input class=\"sk-toggleable__control sk-hidden--visually\" id=\"sk-estimator-id-2\" type=\"checkbox\" checked><label for=\"sk-estimator-id-2\" class=\"sk-toggleable__label sk-toggleable__label-arrow\">DecisionTreeRegressor</label><div class=\"sk-toggleable__content\"><pre>DecisionTreeRegressor()</pre></div></div></div></div></div>"
      ],
      "text/plain": [
       "DecisionTreeRegressor()"
      ]
     },
     "execution_count": 42,
     "metadata": {},
     "output_type": "execute_result"
    }
   ],
   "source": [
    "d_tree = DecisionTreeRegressor()\n",
    "d_tree.fit(x_train,y_train)"
   ]
  },
  {
   "cell_type": "code",
   "execution_count": 43,
   "id": "73a97151",
   "metadata": {},
   "outputs": [
    {
     "data": {
      "text/plain": [
       "array([3.5, 3.8, 3.7, 4. , 4.3, 3.5, 3.8, 4. , 3.8, 3.5, 2.8, 3.4, 3.4,\n",
       "       3.7, 2.8, 3.7, 3.9, 3.3, 4.3, 4.4, 3.7, 3.9, 3.7, 3.7, 4.3, 2.8,\n",
       "       3.7, 2.4, 3.5, 3.7, 3.7, 3.3, 3.7, 3.9, 3.6, 4.1, 3.1, 3.7, 4.2,\n",
       "       3.7, 3.3, 3.5, 4.1, 3.7, 4.2, 3.7, 3.7, 3.6, 4.2, 3.3])"
      ]
     },
     "execution_count": 43,
     "metadata": {},
     "output_type": "execute_result"
    }
   ],
   "source": [
    "y_dt= d_tree.predict(x_test)\n",
    "y_dt[ :50]"
   ]
  },
  {
   "cell_type": "code",
   "execution_count": 44,
   "id": "ad12c8f6",
   "metadata": {},
   "outputs": [
    {
     "name": "stdout",
     "output_type": "stream",
     "text": [
      "mean absolute error: 0.04320625610949218\n",
      "mean squared error: 0.026849679591615074\n",
      "Accuracy of model\n",
      "r2 score: 0.8290591020000802\n"
     ]
    }
   ],
   "source": [
    "#metrics for DecisionTreeregressor\n",
    "\n",
    "mae2 = mean_absolute_error(y_test,y_dt)\n",
    "mse2 = mean_squared_error(y_test,y_dt)\n",
    "r2score2 =r2_score(y_test,y_dt)\n",
    "print(\"mean absolute error:\",mae2)\n",
    "print(\"mean squared error:\" ,mse2)\n",
    "print(\"Accuracy of model\")\n",
    "print(\"r2 score:\" ,r2score2)"
   ]
  },
  {
   "cell_type": "markdown",
   "id": "fcae9ffb",
   "metadata": {},
   "source": [
    "#### Random Forest "
   ]
  },
  {
   "cell_type": "code",
   "execution_count": 45,
   "id": "169ba463",
   "metadata": {},
   "outputs": [
    {
     "data": {
      "text/html": [
       "<style>#sk-container-id-3 {color: black;}#sk-container-id-3 pre{padding: 0;}#sk-container-id-3 div.sk-toggleable {background-color: white;}#sk-container-id-3 label.sk-toggleable__label {cursor: pointer;display: block;width: 100%;margin-bottom: 0;padding: 0.3em;box-sizing: border-box;text-align: center;}#sk-container-id-3 label.sk-toggleable__label-arrow:before {content: \"▸\";float: left;margin-right: 0.25em;color: #696969;}#sk-container-id-3 label.sk-toggleable__label-arrow:hover:before {color: black;}#sk-container-id-3 div.sk-estimator:hover label.sk-toggleable__label-arrow:before {color: black;}#sk-container-id-3 div.sk-toggleable__content {max-height: 0;max-width: 0;overflow: hidden;text-align: left;background-color: #f0f8ff;}#sk-container-id-3 div.sk-toggleable__content pre {margin: 0.2em;color: black;border-radius: 0.25em;background-color: #f0f8ff;}#sk-container-id-3 input.sk-toggleable__control:checked~div.sk-toggleable__content {max-height: 200px;max-width: 100%;overflow: auto;}#sk-container-id-3 input.sk-toggleable__control:checked~label.sk-toggleable__label-arrow:before {content: \"▾\";}#sk-container-id-3 div.sk-estimator input.sk-toggleable__control:checked~label.sk-toggleable__label {background-color: #d4ebff;}#sk-container-id-3 div.sk-label input.sk-toggleable__control:checked~label.sk-toggleable__label {background-color: #d4ebff;}#sk-container-id-3 input.sk-hidden--visually {border: 0;clip: rect(1px 1px 1px 1px);clip: rect(1px, 1px, 1px, 1px);height: 1px;margin: -1px;overflow: hidden;padding: 0;position: absolute;width: 1px;}#sk-container-id-3 div.sk-estimator {font-family: monospace;background-color: #f0f8ff;border: 1px dotted black;border-radius: 0.25em;box-sizing: border-box;margin-bottom: 0.5em;}#sk-container-id-3 div.sk-estimator:hover {background-color: #d4ebff;}#sk-container-id-3 div.sk-parallel-item::after {content: \"\";width: 100%;border-bottom: 1px solid gray;flex-grow: 1;}#sk-container-id-3 div.sk-label:hover label.sk-toggleable__label {background-color: #d4ebff;}#sk-container-id-3 div.sk-serial::before {content: \"\";position: absolute;border-left: 1px solid gray;box-sizing: border-box;top: 0;bottom: 0;left: 50%;z-index: 0;}#sk-container-id-3 div.sk-serial {display: flex;flex-direction: column;align-items: center;background-color: white;padding-right: 0.2em;padding-left: 0.2em;position: relative;}#sk-container-id-3 div.sk-item {position: relative;z-index: 1;}#sk-container-id-3 div.sk-parallel {display: flex;align-items: stretch;justify-content: center;background-color: white;position: relative;}#sk-container-id-3 div.sk-item::before, #sk-container-id-3 div.sk-parallel-item::before {content: \"\";position: absolute;border-left: 1px solid gray;box-sizing: border-box;top: 0;bottom: 0;left: 50%;z-index: -1;}#sk-container-id-3 div.sk-parallel-item {display: flex;flex-direction: column;z-index: 1;position: relative;background-color: white;}#sk-container-id-3 div.sk-parallel-item:first-child::after {align-self: flex-end;width: 50%;}#sk-container-id-3 div.sk-parallel-item:last-child::after {align-self: flex-start;width: 50%;}#sk-container-id-3 div.sk-parallel-item:only-child::after {width: 0;}#sk-container-id-3 div.sk-dashed-wrapped {border: 1px dashed gray;margin: 0 0.4em 0.5em 0.4em;box-sizing: border-box;padding-bottom: 0.4em;background-color: white;}#sk-container-id-3 div.sk-label label {font-family: monospace;font-weight: bold;display: inline-block;line-height: 1.2em;}#sk-container-id-3 div.sk-label-container {text-align: center;}#sk-container-id-3 div.sk-container {/* jupyter's `normalize.less` sets `[hidden] { display: none; }` but bootstrap.min.css set `[hidden] { display: none !important; }` so we also need the `!important` here to be able to override the default hidden behavior on the sphinx rendered scikit-learn.org. See: https://github.com/scikit-learn/scikit-learn/issues/21755 */display: inline-block !important;position: relative;}#sk-container-id-3 div.sk-text-repr-fallback {display: none;}</style><div id=\"sk-container-id-3\" class=\"sk-top-container\"><div class=\"sk-text-repr-fallback\"><pre>RandomForestRegressor(n_estimators=35, random_state=0)</pre><b>In a Jupyter environment, please rerun this cell to show the HTML representation or trust the notebook. <br />On GitHub, the HTML representation is unable to render, please try loading this page with nbviewer.org.</b></div><div class=\"sk-container\" hidden><div class=\"sk-item\"><div class=\"sk-estimator sk-toggleable\"><input class=\"sk-toggleable__control sk-hidden--visually\" id=\"sk-estimator-id-3\" type=\"checkbox\" checked><label for=\"sk-estimator-id-3\" class=\"sk-toggleable__label sk-toggleable__label-arrow\">RandomForestRegressor</label><div class=\"sk-toggleable__content\"><pre>RandomForestRegressor(n_estimators=35, random_state=0)</pre></div></div></div></div></div>"
      ],
      "text/plain": [
       "RandomForestRegressor(n_estimators=35, random_state=0)"
      ]
     },
     "execution_count": 45,
     "metadata": {},
     "output_type": "execute_result"
    }
   ],
   "source": [
    "rf=RandomForestRegressor(n_estimators=35 ,random_state=0)\n",
    "rf.fit(x_train,y_train)"
   ]
  },
  {
   "cell_type": "code",
   "execution_count": 46,
   "id": "5fc7b030",
   "metadata": {},
   "outputs": [
    {
     "data": {
      "text/plain": [
       "array([3.51142857, 3.78857143, 3.72285714, 3.72571429, 4.26285714,\n",
       "       3.47714286, 3.79714286, 3.90857143, 3.77428571, 3.46285714,\n",
       "       2.88      , 3.38571429, 3.36857143, 3.7       , 2.98285714,\n",
       "       3.7       , 3.86      , 3.53714286, 4.28571429, 4.37428571,\n",
       "       3.7       , 3.89571429, 3.7       , 3.82571429, 4.3       ,\n",
       "       2.97142857, 3.7       , 3.37714286, 3.47142857, 3.7       ,\n",
       "       3.7       , 3.27428571, 3.7       , 3.90571429, 3.50571429,\n",
       "       3.91142857, 3.28857143, 3.7       , 4.07142857, 3.7       ,\n",
       "       3.28857143, 3.34857143, 4.1       , 3.67142857, 4.17428571,\n",
       "       3.7       , 3.7       , 3.57142857, 4.34285714, 3.24285714])"
      ]
     },
     "execution_count": 46,
     "metadata": {},
     "output_type": "execute_result"
    }
   ],
   "source": [
    "y_rf = rf.predict(x_test)\n",
    "y_rf[ :50]"
   ]
  },
  {
   "cell_type": "code",
   "execution_count": 47,
   "id": "88384807",
   "metadata": {},
   "outputs": [
    {
     "name": "stdout",
     "output_type": "stream",
     "text": [
      "mean absolute error: 0.05661555499536694\n",
      "mean squared error: 0.016319249121737826\n",
      "Accuracy of model\n",
      "r2 score: 0.8961020339168053\n"
     ]
    }
   ],
   "source": [
    "#metrics for random forest regressor\n",
    "mae3 = mean_absolute_error(y_test,y_rf)\n",
    "mse3= mean_squared_error(y_test,y_rf)\n",
    "r2score3 =r2_score(y_test,y_rf)\n",
    "print(\"mean absolute error:\",mae3)\n",
    "print(\"mean squared error:\" ,mse3)\n",
    "print(\"Accuracy of model\")\n",
    "print(\"r2 score:\" ,r2score3)"
   ]
  },
  {
   "cell_type": "markdown",
   "id": "651cc71d",
   "metadata": {},
   "source": [
    "### Extra Tree Regressor"
   ]
  },
  {
   "cell_type": "code",
   "execution_count": 49,
   "id": "bf4eb11b",
   "metadata": {},
   "outputs": [
    {
     "data": {
      "text/html": [
       "<style>#sk-container-id-4 {color: black;}#sk-container-id-4 pre{padding: 0;}#sk-container-id-4 div.sk-toggleable {background-color: white;}#sk-container-id-4 label.sk-toggleable__label {cursor: pointer;display: block;width: 100%;margin-bottom: 0;padding: 0.3em;box-sizing: border-box;text-align: center;}#sk-container-id-4 label.sk-toggleable__label-arrow:before {content: \"▸\";float: left;margin-right: 0.25em;color: #696969;}#sk-container-id-4 label.sk-toggleable__label-arrow:hover:before {color: black;}#sk-container-id-4 div.sk-estimator:hover label.sk-toggleable__label-arrow:before {color: black;}#sk-container-id-4 div.sk-toggleable__content {max-height: 0;max-width: 0;overflow: hidden;text-align: left;background-color: #f0f8ff;}#sk-container-id-4 div.sk-toggleable__content pre {margin: 0.2em;color: black;border-radius: 0.25em;background-color: #f0f8ff;}#sk-container-id-4 input.sk-toggleable__control:checked~div.sk-toggleable__content {max-height: 200px;max-width: 100%;overflow: auto;}#sk-container-id-4 input.sk-toggleable__control:checked~label.sk-toggleable__label-arrow:before {content: \"▾\";}#sk-container-id-4 div.sk-estimator input.sk-toggleable__control:checked~label.sk-toggleable__label {background-color: #d4ebff;}#sk-container-id-4 div.sk-label input.sk-toggleable__control:checked~label.sk-toggleable__label {background-color: #d4ebff;}#sk-container-id-4 input.sk-hidden--visually {border: 0;clip: rect(1px 1px 1px 1px);clip: rect(1px, 1px, 1px, 1px);height: 1px;margin: -1px;overflow: hidden;padding: 0;position: absolute;width: 1px;}#sk-container-id-4 div.sk-estimator {font-family: monospace;background-color: #f0f8ff;border: 1px dotted black;border-radius: 0.25em;box-sizing: border-box;margin-bottom: 0.5em;}#sk-container-id-4 div.sk-estimator:hover {background-color: #d4ebff;}#sk-container-id-4 div.sk-parallel-item::after {content: \"\";width: 100%;border-bottom: 1px solid gray;flex-grow: 1;}#sk-container-id-4 div.sk-label:hover label.sk-toggleable__label {background-color: #d4ebff;}#sk-container-id-4 div.sk-serial::before {content: \"\";position: absolute;border-left: 1px solid gray;box-sizing: border-box;top: 0;bottom: 0;left: 50%;z-index: 0;}#sk-container-id-4 div.sk-serial {display: flex;flex-direction: column;align-items: center;background-color: white;padding-right: 0.2em;padding-left: 0.2em;position: relative;}#sk-container-id-4 div.sk-item {position: relative;z-index: 1;}#sk-container-id-4 div.sk-parallel {display: flex;align-items: stretch;justify-content: center;background-color: white;position: relative;}#sk-container-id-4 div.sk-item::before, #sk-container-id-4 div.sk-parallel-item::before {content: \"\";position: absolute;border-left: 1px solid gray;box-sizing: border-box;top: 0;bottom: 0;left: 50%;z-index: -1;}#sk-container-id-4 div.sk-parallel-item {display: flex;flex-direction: column;z-index: 1;position: relative;background-color: white;}#sk-container-id-4 div.sk-parallel-item:first-child::after {align-self: flex-end;width: 50%;}#sk-container-id-4 div.sk-parallel-item:last-child::after {align-self: flex-start;width: 50%;}#sk-container-id-4 div.sk-parallel-item:only-child::after {width: 0;}#sk-container-id-4 div.sk-dashed-wrapped {border: 1px dashed gray;margin: 0 0.4em 0.5em 0.4em;box-sizing: border-box;padding-bottom: 0.4em;background-color: white;}#sk-container-id-4 div.sk-label label {font-family: monospace;font-weight: bold;display: inline-block;line-height: 1.2em;}#sk-container-id-4 div.sk-label-container {text-align: center;}#sk-container-id-4 div.sk-container {/* jupyter's `normalize.less` sets `[hidden] { display: none; }` but bootstrap.min.css set `[hidden] { display: none !important; }` so we also need the `!important` here to be able to override the default hidden behavior on the sphinx rendered scikit-learn.org. See: https://github.com/scikit-learn/scikit-learn/issues/21755 */display: inline-block !important;position: relative;}#sk-container-id-4 div.sk-text-repr-fallback {display: none;}</style><div id=\"sk-container-id-4\" class=\"sk-top-container\"><div class=\"sk-text-repr-fallback\"><pre>ExtraTreesRegressor(n_estimators=120)</pre><b>In a Jupyter environment, please rerun this cell to show the HTML representation or trust the notebook. <br />On GitHub, the HTML representation is unable to render, please try loading this page with nbviewer.org.</b></div><div class=\"sk-container\" hidden><div class=\"sk-item\"><div class=\"sk-estimator sk-toggleable\"><input class=\"sk-toggleable__control sk-hidden--visually\" id=\"sk-estimator-id-4\" type=\"checkbox\" checked><label for=\"sk-estimator-id-4\" class=\"sk-toggleable__label sk-toggleable__label-arrow\">ExtraTreesRegressor</label><div class=\"sk-toggleable__content\"><pre>ExtraTreesRegressor(n_estimators=120)</pre></div></div></div></div></div>"
      ],
      "text/plain": [
       "ExtraTreesRegressor(n_estimators=120)"
      ]
     },
     "execution_count": 49,
     "metadata": {},
     "output_type": "execute_result"
    }
   ],
   "source": [
    "Et = ExtraTreesRegressor(n_estimators=120)\n",
    "Et.fit(x_train,y_train)\n"
   ]
  },
  {
   "cell_type": "code",
   "execution_count": 50,
   "id": "e3d5d2c0",
   "metadata": {},
   "outputs": [
    {
     "data": {
      "text/plain": [
       "array([3.5       , 3.7825    , 3.71583333, 3.95416667, 4.3       ,\n",
       "       3.44333333, 3.8       , 3.93583333, 3.74583333, 3.495     ,\n",
       "       2.8       , 3.39833333, 3.4       , 3.7       , 2.8       ,\n",
       "       3.7       , 3.9       , 3.56666667, 4.3       , 4.4       ,\n",
       "       3.69666667, 3.90583333, 3.7       , 3.885     , 4.3       ,\n",
       "       2.8       , 3.7       , 3.65666667, 3.5       , 3.7       ,\n",
       "       3.7       , 3.3       , 3.7       , 3.9       , 3.6       ,\n",
       "       4.02916667, 3.12666667, 3.7       , 4.1275    , 3.7       ,\n",
       "       3.265     , 3.39833333, 4.105     , 3.7       , 4.18      ,\n",
       "       3.7       , 3.7       , 3.56791667, 4.42416667, 3.21666667])"
      ]
     },
     "execution_count": 50,
     "metadata": {},
     "output_type": "execute_result"
    }
   ],
   "source": [
    "y_pred = Et.predict(x_test)\n",
    "y_pred[:50]"
   ]
  },
  {
   "cell_type": "code",
   "execution_count": 51,
   "id": "eb32732b",
   "metadata": {},
   "outputs": [
    {
     "name": "stdout",
     "output_type": "stream",
     "text": [
      "mean absolute error: 0.035887368306726994\n",
      "mean squared error: 0.011899276259584082\n",
      "Accuracy of model\n",
      "r2 score: 0.9242421883500742\n"
     ]
    }
   ],
   "source": [
    "#metrics for Extra tree regressor\n",
    "mae4 = mean_absolute_error(y_test,y_pred)\n",
    "mse4= mean_squared_error(y_test,y_pred)\n",
    "r2score4 =r2_score(y_test,y_pred)\n",
    "print(\"mean absolute error:\",mae4)\n",
    "print(\"mean squared error:\" ,mse4)\n",
    "print(\"Accuracy of model\")\n",
    "print(\"r2 score:\" ,r2score4)"
   ]
  },
  {
   "cell_type": "code",
   "execution_count": 52,
   "id": "895643a8",
   "metadata": {},
   "outputs": [],
   "source": [
    "# saving model by using pickle\n",
    "import pickle\n",
    "with open('model_pickle','wb') as f:\n",
    "    pickle.dump(Et,f)"
   ]
  }
 ],
 "metadata": {
  "kernelspec": {
   "display_name": "Python 3 (ipykernel)",
   "language": "python",
   "name": "python3"
  },
  "language_info": {
   "codemirror_mode": {
    "name": "ipython",
    "version": 3
   },
   "file_extension": ".py",
   "mimetype": "text/x-python",
   "name": "python",
   "nbconvert_exporter": "python",
   "pygments_lexer": "ipython3",
   "version": "3.11.5"
  }
 },
 "nbformat": 4,
 "nbformat_minor": 5
}
